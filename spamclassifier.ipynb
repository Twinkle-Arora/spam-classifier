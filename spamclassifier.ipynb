{
 "cells": [
  {
   "cell_type": "code",
   "execution_count": 8,
   "metadata": {},
   "outputs": [
    {
     "data": {
      "text/plain": [
       "array(['spam', 'ham'], dtype='<U4')"
      ]
     },
     "execution_count": 8,
     "metadata": {},
     "output_type": "execute_result"
    }
   ],
   "source": [
    "import os\n",
    "import io\n",
    "import numpy\n",
    "from pandas import DataFrame\n",
    "from sklearn.feature_extraction.text import CountVectorizer\n",
    "from sklearn.naive_bayes import MultinomialNB\n",
    "\n",
    "def read(path):\n",
    "\tfor root, dn, fns in os.walk(path):\n",
    "\t\tfor fn in fns:\n",
    "\t\t\tpath = os.path.join(root, fn)\n",
    "\t\t\t\n",
    "\t\t\tinBody = False\n",
    "\t\t\tlines = []\n",
    "\t\t\tf = io.open(path, 'r', encoding='latin1')\n",
    "\t\t\tfor l in f:\n",
    "\t\t\t\tif inBody:\n",
    "\t\t\t\t\tlines.append(l)\n",
    "\t\t\t\telif l == '\\n':\n",
    "\t\t\t\t\tinBody = True\n",
    "\t\t\tf.close()\n",
    "\t\t\tmsg = '\\n'.join(lines)\n",
    "\t\t\tyield path, msg\n",
    "\n",
    "def dffromdir(path, clas):\n",
    "\trows = []\n",
    "\tindex = []\n",
    "\tfor fn, msg in read(path):\n",
    "\t\trows.append({'message': msg, 'class' : clas})\n",
    "\t\tindex.append(fn)\n",
    "\treturn DataFrame(rows, index=index)\n",
    "\n",
    "data = DataFrame({'message': [], 'class': []})\n",
    "data = data.append(dffromdir('emails/spam', 'spam'))\n",
    "data = data.append(dffromdir('emails/ham', 'ham'))  \n",
    "\n",
    "data.head()\n",
    "\n",
    "vectorizer = CountVectorizer()\n",
    "counts = vectorizer.fit_transform(data['message'].values)\n",
    "\n",
    "classifier = MultinomialNB()\n",
    "targets = data['class'].values\n",
    "classifier.fit(counts, targets)\n",
    "\n",
    "examples = ['Free Viagra now!!!', \"Hi Bob, how about a game of golf tomorrow?\"]\n",
    "example_counts = vectorizer.transform(examples)\n",
    "predictions = classifier.predict(example_counts)\n",
    "predictions"
   ]
  },
  {
   "cell_type": "code",
   "execution_count": null,
   "metadata": {},
   "outputs": [],
   "source": []
  },
  {
   "cell_type": "code",
   "execution_count": null,
   "metadata": {},
   "outputs": [],
   "source": []
  }
 ],
 "metadata": {
  "kernelspec": {
   "display_name": "Python 3",
   "language": "python",
   "name": "python3"
  },
  "language_info": {
   "codemirror_mode": {
    "name": "ipython",
    "version": 3
   },
   "file_extension": ".py",
   "mimetype": "text/x-python",
   "name": "python",
   "nbconvert_exporter": "python",
   "pygments_lexer": "ipython3",
   "version": "3.7.4"
  }
 },
 "nbformat": 4,
 "nbformat_minor": 2
}
